import pandas as pd
from models.flight_optimizer import optimize_flight

df = pd.read_csv('data/sample_routes.csv')
optimized_df = optimize_flight(df)
print(optimized_df)
